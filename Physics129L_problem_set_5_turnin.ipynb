{
 "cells": [
  {
   "cell_type": "markdown",
   "id": "461bb66f",
   "metadata": {},
   "source": [
    "<div style=\"text-align: center;\">\n",
    "    <h1><strong>Physics 129L: Problem Set 5</strong></h1>\n",
    "</div>"
   ]
  },
  {
   "cell_type": "markdown",
   "id": "8db292cd",
   "metadata": {},
   "source": [
    "<div style=\"text-align: center;\">\n",
    "    <h3><strong>Problem Set Submission Guideline</strong></h3>\n",
    "</div>\n",
    "\n",
    "**A) Github Submissions**\n",
    "We will use GitHub for problem set submissions. To access the problem set, please **fork** and **clone** the **forked** repository to your local virtual machine. **Please complete the problem set in this forked directory.** Submit **a pull request** for merging into the main branch before the problem set due date.\n",
    "\n",
    "**B) .tar.gz File compression and submission on Github**\n",
    "For each problem set, you are asked to submit the compressed version of the problem set to GitHub via git operation. Here is a step-by-step guideline:\n",
    "\n",
    "1. Use the **tar** command to compress the problem set directory into a **single** \".tar.gz\" file.\n",
    "2. Obtain the sha256sum by running \"sha256sum P2.tar.gz\".\n",
    "3. Echo the **full sha256sum** to a text file named \"sha25sum_problem_set.txt\".\n",
    "4. Initialize a git repository named \"Archive_P# (#: problem set number) on your local machine, and move both the \"tar.gz\" file and the \"sha25sum_problem_set.txt\" file to the repository.\n",
    "5. Create an empty **public** directory under the **same name** in **your own GitHub account**.\n",
    "6. **Push** this local repository to the remote repository.\n"
   ]
  },
  {
   "cell_type": "markdown",
   "id": "ba7da1e9",
   "metadata": {},
   "source": [
    "<div style=\"text-align: center;\">\n",
    "    <h3><strong>Imports and built-in functions</strong></h3>\n",
    "</div>"
   ]
  },
  {
   "cell_type": "code",
   "execution_count": 3,
   "id": "773c4273",
   "metadata": {},
   "outputs": [],
   "source": [
    "import numpy as np\n",
    "#Import in-built functions for different integration techniques\n",
    "#For reference: https://docs.scipy.org/doc/scipy/reference/integrate.html\n",
    "from scipy.integrate import quad, fixed_quad, romberg, dblquad\n",
    "#For plotting\n",
    "import matplotlib.pyplot as plt\n",
    "%matplotlib inline"
   ]
  },
  {
   "cell_type": "markdown",
   "id": "40607247",
   "metadata": {},
   "source": [
    "<div style=\"text-align: center;\">\n",
    "    <h2><strong>Problem 1: Quadrature </strong></h2>\n",
    "</div>\n",
    "Let's looked at different quadrature methods and rules. \n",
    "\n",
    "\n",
    "<div style=\"text-align: center;\">\n",
    "    <h2><strong> Midpoint rule </strong></h2>\n",
    "</div>\n",
    "$$\\int_{a}^{b} f(x) \\, dx \\approx (b - a) \\cdot f\\left(\\frac{a + b}{2}\\right)\n",
    "$$\n",
    "\n",
    "<div style=\"text-align: center;\">\n",
    "    <h2><strong> Trapezoidal Rule  </strong></h2>\n",
    "</div>\n",
    "\n",
    "$$\\int_{a}^{b} f(x) \\, dx \\approx \\frac{b - a}{2} \\left[ f(a) + f(b) \\right]$$\n",
    "\n",
    "<div style=\"text-align: center;\">\n",
    "    <h2><strong> Simpson's Rule </strong></h2>\n",
    "</div>\n",
    "$$\\int_{a}^{b} f(x) \\, dx \\approx \\frac{b - a}{3} \\left[ f(a) + 4f\\left(\\frac{a + b}{2}\\right) + f(b) \\right]$$\n"
   ]
  },
  {
   "cell_type": "markdown",
   "id": "f0dfe677",
   "metadata": {},
   "source": [
    "## A) \n",
    "Define a class for all quadrature techniques."
   ]
  },
  {
   "cell_type": "code",
   "execution_count": 5,
   "id": "580ec43e",
   "metadata": {},
   "outputs": [],
   "source": [
    "class Quad_:\n",
    "    def __init__(self,fuc,N,a,b):\n",
    "        '''The class take an additional input, called order. \n",
    "        make sure you look into super(). '''\n",
    "        self.fuc=fuc\n",
    "        self.N=N\n",
    "        self.a=a\n",
    "        self.b=b\n",
    "        pass \n",
    "class Mid_(Quad_):\n",
    "    def returnQ(self):\n",
    "        return self.N\n",
    "    \n",
    "class Trap_(Quad_):\n",
    "    def returnQ(self):\n",
    "        pass\n",
    "    \n",
    "class Simp_(Quad_):\n",
    "    def returnQ(self):\n",
    "        pass\n"
   ]
  },
  {
   "cell_type": "markdown",
   "id": "6358ed18",
   "metadata": {},
   "source": [
    "## B) \n",
    "Write the above three quadrature rules as class methods **without any pre-defined function from any package** 1)  Midpoint rule 2) Trapezoidal Rule 3) Simpson's Rule. You need to figure out what additional inputs each rule needs. "
   ]
  },
  {
   "cell_type": "code",
   "execution_count": 6,
   "id": "879242fb",
   "metadata": {},
   "outputs": [
    {
     "name": "stdout",
     "output_type": "stream",
     "text": [
      "2.3350000000000004\n",
      "2.3333333333333335\n"
     ]
    }
   ],
   "source": [
    "# Add the following to the class in part A). \n",
    "def mid_quad(self):\n",
    "    h = (self.b - self.a) / self.N  \n",
    "    integral = 0.0\n",
    "\n",
    "    for i in range(self.N):\n",
    "        x_i = self.a + (i + 0.5) * h  \n",
    "        integral += self.fuc(x_i)\n",
    "\n",
    "    #print( h * integral)\n",
    "    pass\n",
    "def trapz_quad(self):\n",
    "    h = (self.b - self.a) / self.N  \n",
    "    integral = 0.5 * (self.fuc(self.a) + self.fuc(self.b))\n",
    "\n",
    "    for i in range(1, self.N):\n",
    "        x_i = self.a + i * h\n",
    "        integral += self.fuc(x_i)\n",
    "\n",
    "    integral *= h  \n",
    "    print(integral)\n",
    "    pass\n",
    "def simpson_quad(self):\n",
    "\n",
    "    h = (self.b - self.a) / self.N  \n",
    "    integral = self.fuc(self.a) + self.fuc(self.b)\n",
    "\n",
    "    for i in range(1, self.N):\n",
    "        x_i = self.a + i * h\n",
    "        if i % 2 == 0:\n",
    "            integral += 2 * self.fuc(x_i)\n",
    "        else:\n",
    "            integral += 4 * self.fuc(x_i)\n",
    "\n",
    "    integral *= h / 3  \n",
    "    print(integral)\n",
    "    pass\n",
    "\n",
    "Mid_.mid_quad=mid_quad\n",
    "Trap_.trapz_quad=trapz_quad\n",
    "Simp_.simpson_quad=simpson_quad\n",
    "def test_fun(x):\n",
    "    return x**2\n",
    "testfunmid=Mid_(test_fun,10,1,2)\n",
    "testfunmid.mid_quad()\n",
    "testfuntrap=Trap_(test_fun,10,1,2)\n",
    "testfuntrap.trapz_quad()\n",
    "testfunsimp=Simp_(test_fun,10,1,2)\n",
    "testfunsimp.simpson_quad()\n"
   ]
  },
  {
   "cell_type": "markdown",
   "id": "1a39868e",
   "metadata": {},
   "source": [
    "<div style=\"text-align: center;\">\n",
    "    <h3><strong> Gauss-Legendre Quadrature </strong></h3>\n",
    "</div>\n",
    "\n",
    "$$\\int_{-1}^{1} f(x) \\, dx \\approx \\sum_{i=1}^{N} w_i \\cdot f(x_i)$$\n"
   ]
  },
  {
   "cell_type": "markdown",
   "id": "16b57c68",
   "metadata": {},
   "source": [
    "## C)\n",
    "Since the range is from a to b, let's make a variable change,\n",
    "$$x_i \\to \\frac{b - a}{2} x_i + \\frac{a + b}{2}$$\n",
    "\n",
    "Calculate the above condition **analytically**,\n",
    "<br> \n",
    "''**write you answer below**''\n",
    "<br><br> **Steps:** <br>\n",
    "<br>\n",
    "1. If we suppose that $$u=\\frac{b - a}{2} x + \\frac{b - a}{2}$$ and $$ \\frac{du}{dx}=\\frac{b - a}{2}$$ It follows that we can write the integral $$\\int_{-1}^{1} f(u) \\, du$$ as $$\\frac{b - a}{2}\\int_{0}^{b-a} f(u)\\frac{du}{dx} dx$$\n",
    "2. Based upon what we know about the approximation, it follows that $$\\frac{b - a}{2}\\int_{0}^{b-a} f(u)\\frac{du}{dx} dx \\approx \\frac{b - a}{2}\\sum_{i=1}^{N} w_i \\cdot f(u_i) = \\frac{b - a}{2}\\sum_{i=1}^{N} w_i \\cdot f(\\frac{b - a}{2} x_i + \\frac{b - a}{2})$$ \n",
    "'' **write you answer above**''\n",
    "<br> <br> \n",
    "You should get something like this: \n",
    "$$\\int_{a}^b f(x)dx = \\frac{b-a}{2} \\sum_i w_i f(\\frac{b - a}{2} x_i + \\frac{a + b}{2})$$"
   ]
  },
  {
   "cell_type": "markdown",
   "id": "bba288ba",
   "metadata": {},
   "source": [
    "<div style=\"text-align: center;\">\n",
    "    <h3><strong> Legendre polynomials </strong></h3>\n",
    "</div>\n",
    "To find the position and weights of an order M Gauss-Legendre Quadrature, we need to calculate the roots of an order-M Legendre polynomial,\n",
    "$$(1 - x^2) \\frac{d^2 P_M(x)}{dx^2} - 2x \\frac{dP_M(x)}{dx} + M(M + 1)P_M(x) = 0,\n",
    "$$\n",
    "and the solutions are given by the following:  \n",
    "$$P_M(x) = \\frac{1}{2^n n!} \\frac{d^M}{dx^M} \\left[(x^2 - 1)^M\\right]$$"
   ]
  },
  {
   "cell_type": "markdown",
   "id": "5769e75c",
   "metadata": {},
   "source": [
    "## D)\n",
    "Write a child class named Gauss_Quad_ inherits methods from its parent class Quad_. This class takes an additional input, called order. Define a new method that outputs an order-M Legendre polynomial. Plot the following Legendre polynomials: M=[1,2,3,4,5]. "
   ]
  },
  {
   "cell_type": "code",
   "execution_count": 148,
   "id": "3cf2dc63",
   "metadata": {},
   "outputs": [
    {
     "data": {
      "image/png": "[encoded data removed]",
      "text/plain": [
       "<Figure size 432x288 with 5 Axes>"
      ]
     },
     "metadata": {
      "needs_background": "light"
     },
     "output_type": "display_data"
    }
   ],
   "source": [
    "import sympy as sp #python package that allows easy computation of derivatives\n",
    "import math\n",
    "import numpy as np\n",
    "import matplotlib.pyplot as plt\n",
    "# Define a symbolic variable\n",
    "#x = sp.symbols('x')\n",
    "fig, axs = plt.subplots(1,5)\n",
    "class Gauss_Quad_:\n",
    "    def __init__(self,order):\n",
    "        self.order=order\n",
    "        '''The class take an additional input, called order. \n",
    "        make sure you look into super(). '''\n",
    "        pass \n",
    "    \n",
    "    \n",
    "    def legendre_poly(self,x):\n",
    "        # range from -1 to 1\n",
    "        x1 = sp.symbols('x')\n",
    "        self.x1=x1\n",
    "        f = (1/(2**self.order))*(1/math.factorial(self.order))*(x1**2 - 1)**self.order\n",
    "        self.f=f\n",
    "        n = self.order\n",
    "        nth_derivative = sp.diff(f, x1, n)\n",
    "        self.nth_derivative=nth_derivative\n",
    "        #print(nth_derivative)\n",
    "        #print(nth_derivative.subs(x1,2))\n",
    "        y=[]\n",
    "        for element in x:\n",
    "            y.append(nth_derivative.subs(x1,element))\n",
    "        axs[self.order-1].plot(x,y)\n",
    "        pass\n",
    "ob1=Gauss_Quad_(1)\n",
    "ob2=Gauss_Quad_(2)\n",
    "ob3=Gauss_Quad_(3)\n",
    "ob4=Gauss_Quad_(4)\n",
    "ob5=Gauss_Quad_(5)\n",
    "x=np.linspace(-1,1,500)\n",
    "ob1.legendre_poly(x)\n",
    "ob2.legendre_poly(x)\n",
    "ob3.legendre_poly(x)\n",
    "ob4.legendre_poly(x)\n",
    "ob5.legendre_poly(x)\n",
    "axs[0].set_title('Order 1')\n",
    "axs[1].set_title('Order 2')\n",
    "axs[2].set_title('Order 3')\n",
    "axs[3].set_title('Order 4')\n",
    "axs[4].set_title('Order 5')\n",
    "plt.tight_layout()"
   ]
  },
  {
   "cell_type": "markdown",
   "id": "8f0bea5b",
   "metadata": {},
   "source": [
    "<div style=\"text-align: center;\">\n",
    "    <h3><strong> Newton's Method </strong></h3>\n",
    "</div>\n",
    "The positions of an order M Gauss-Legendre Quadrature are calculated by finding roots of an order-M Legendre polynomial,\n",
    " <br>  <br> \n",
    "$$P_M(x)=0.$$\n",
    " <br> \n",
    "To numerically find those roots (M of them), we can use the Newton's method: \n",
    " <br> \n",
    "$$x_{n+1} = x_{n} - \\frac{P_M(x_{n})}{P_M'(x_{n})}.$$\n",
    "You should be careful on the initial guess.\n",
    " <br> \n",
    "The weights $w_i$ for Gauss-Legendre Quadrature are calculated as:\n",
    "$$w_i = \\frac{2}{(1 - x_i^2) [P'_M(x_i)]^2}$$\n",
    "where $P'_M(x_i)$ is the derivative of the Legendre polynomial of degree M evaluated at each root $x_i$. "
   ]
  },
  {
   "cell_type": "markdown",
   "id": "3c49d271",
   "metadata": {},
   "source": [
    "## E) \n",
    " Calculate 'M' position and weights for Gaussian quadrature integration between 'a' and 'b' with the Newton's method. Returns a tuple of 2 arrays, the first array is the position of points and second array is the corresponding weights. Output an text file that contains the roots and weights for M=[1,2,3,4,5]. "
   ]
  },
  {
   "cell_type": "code",
   "execution_count": 350,
   "id": "fbce233e",
   "metadata": {},
   "outputs": [],
   "source": [
    "# Add the following to the class in part D). \n",
    "def newton_method_root(self,tol):\n",
    "    num_iter=100 #number of times we guess\n",
    "    P_prime=sp.diff(self.nth_derivative,self.x1)\n",
    "    print(P_prime)\n",
    "    x0=0\n",
    "    for i in range(num_iter):\n",
    "        f1=self.nth_derivative\n",
    "        poly = f1.subs(self.x1, x0)\n",
    "        print(poly)\n",
    "        poly_prime = P_prime.subs(self.x1, x0)\n",
    "        print(poly_prime)\n",
    "        if abs(poly) < tol:\n",
    "            break\n",
    "        x0 = x0 - poly / poly_prime\n",
    "    return x0\n",
    "\n",
    "Gauss_Quad_.newton_method_root=newton_method_root\n",
    "#ob2.newton_method_root(1e-6)"
   ]
  },
  {
   "cell_type": "markdown",
   "id": "954b3562",
   "metadata": {},
   "source": [
    "## F) \n",
    "Using the the following information,\n",
    "https://docs.scipy.org/doc/scipy/reference/generated/scipy.special.roots_legendre.html\n",
    ", calculate the roots and weights for M=[1,2,3,4,5]. Do they agree with what you calculate in E)?  "
   ]
  },
  {
   "cell_type": "code",
   "execution_count": 170,
   "id": "93636d3a",
   "metadata": {},
   "outputs": [
    {
     "data": {
      "text/plain": [
       "(array([-0.90617985, -0.53846931,  0.        ,  0.53846931,  0.90617985]),\n",
       " array([0.23692689, 0.47862867, 0.56888889, 0.47862867, 0.23692689]))"
      ]
     },
     "execution_count": 170,
     "metadata": {},
     "output_type": "execute_result"
    }
   ],
   "source": [
    "# Add the following to the class in part D). \n",
    "from scipy.special import roots_legendre \n",
    "def scipy_method_root(self,order):\n",
    "    roots, weights = roots_legendre(order)\n",
    "    self.roots=roots\n",
    "    self.weights=weights\n",
    "    return roots, weights\n",
    "    pass\n",
    "\n",
    "Gauss_Quad_.scipy_method_root=scipy_method_root\n",
    "l1=Gauss_Quad_(1)\n",
    "l1.scipy_method_root(1)\n",
    "l2=Gauss_Quad_(2)\n",
    "l2.scipy_method_root(2)\n",
    "l3=Gauss_Quad_(3)\n",
    "l3.scipy_method_root(3)\n",
    "l4=Gauss_Quad_(4)\n",
    "l4.scipy_method_root(4)\n",
    "l5=Gauss_Quad_(5)\n",
    "l5.scipy_method_root(5)"
   ]
  },
  {
   "cell_type": "markdown",
   "id": "51ed9d1e",
   "metadata": {},
   "source": [
    "## G)\n",
    "Based on the roots and weights, write a method that output the Gauss-Legendre Quadrature. "
   ]
  },
  {
   "cell_type": "code",
   "execution_count": 179,
   "id": "65398b6c",
   "metadata": {},
   "outputs": [
    {
     "name": "stdout",
     "output_type": "stream",
     "text": [
      "[-0.90617985 -0.53846931  0.          0.53846931  0.90617985]\n",
      "[0.23692689 0.47862867 0.56888889 0.47862867 0.23692689]\n"
     ]
    },
    {
     "data": {
      "text/plain": [
       "-2.7755575615628914e-17"
      ]
     },
     "execution_count": 179,
     "metadata": {},
     "output_type": "execute_result"
    }
   ],
   "source": [
    "# Add the following to the class in part D).\n",
    "def gauss_quad(self,fuc):\n",
    "    intg=0\n",
    "    print(self.roots)\n",
    "    print(self.weights)\n",
    "    for i, element in enumerate(self.roots):\n",
    "        intg=intg+(self.weights[i]*element)\n",
    "    return intg\n",
    "    pass \n",
    "Gauss_Quad_.gauss_quad=gauss_quad\n",
    "def test_fun(x):\n",
    "    return x**2\n",
    "rand=Gauss_Quad_(5)\n",
    "rand.scipy_method_root(5)\n",
    "rand.gauss_quad(test_fun)"
   ]
  },
  {
   "cell_type": "markdown",
   "id": "d2e40a2c",
   "metadata": {},
   "source": [
    "<div style=\"text-align: center;\">\n",
    "    <h3><strong> Quadrature on test functions </strong></h3>\n",
    "</div>\n",
    "\n",
    "In the following question, we want to Use the above four methods, mid_quad, trapz_quad, simpson_quad, gauss_quad, to numerically calculate the quarature on two test functions ($k\\geq 0)$\n",
    "\n",
    "A general k-th order polynomial with a quadrature, \n",
    "$$I^{\\rm T=A}_{\\rm true}=\\int_{a}^b dx x^k=\\frac{1}{k+1}(b^{k+1}-a^{k+1})$$\n",
    "\n",
    "A Fermi–Dirac distribution with a quadrature, \n",
    "$$I^{\\rm T=B}_{\\rm true}=\\int_{a}^b dx \\frac{1}{{1 + e^{-kx}}}=\\frac{1}{k}(\\log(e^{kb}+1)-\\log(e^{ka}+1))$$\n",
    "\n",
    "\n",
    "Let's define the following: for each order k and N, we have the quadrature value and the relative error,\n",
    "1) mid_quad: $M(k,N)$,<br><br> $\\Delta M(k,N)=2\\frac{I_{\\rm true}-M(k,N)}{I_{\\rm true}+M(k,N)}$,\n",
    "<br><br><br>\n",
    "2) trapz_quad: $T(k,N)$,<br><br> $\\Delta T(k,N)=2\\frac{I_{\\rm true}-T(k,N)}{I_{\\rm true}+T(k,N)}$,\n",
    "<br><br><br>\n",
    "3) simpson_quad: $S(k,N)$,<br><br> $\\Delta S(k,N)=2\\frac{I_{\\rm true}-S(k,N)}{I_{\\rm true}+S(k,N)}$,\n",
    "<br><br><br>\n",
    "4) gauss_quad: $G(k,N)$,<br><br> $\\Delta G(k,N)=2\\frac{I_{\\rm true}-G(k,N)}{I_{\\rm true}+G(k,N)}$,\n",
    "\n",
    "Let's make the following heatmap for each quadrature method above, 1-4), over the range $[0,1]$: \n",
    "\n",
    "y-axis: k from 0 to 10\n",
    "\n",
    "x-axis: N from 10 to $10^5$\n",
    "\n",
    "value: relative error\n",
    "\n",
    "\n"
   ]
  },
  {
   "cell_type": "markdown",
   "id": "0e52c04d",
   "metadata": {},
   "source": [
    "## H) Polynomial\n",
    "\n",
    "\n",
    "\n"
   ]
  },
  {
   "cell_type": "code",
   "execution_count": 391,
   "id": "6745de26",
   "metadata": {},
   "outputs": [
    {
     "name": "stdout",
     "output_type": "stream",
     "text": [
      "1.0\n",
      "0.5000000000000001\n",
      "0.3325\n",
      "0.24875000000000003\n",
      "0.19833625000000005\n",
      "0.16459062500000007\n",
      "0.14037170312500008\n",
      "0.12210877343750007\n",
      "0.10781839616406258\n",
      "0.0963107671132813\n",
      "0.08682896044580085\n",
      "1.0\n",
      "0.5000000000000002\n",
      "0.3333333326594127\n",
      "0.24999999898911823\n",
      "0.19999999865215745\n",
      "0.1666666649818635\n",
      "0.14285714083537923\n",
      "0.12499999764127563\n",
      "0.11111110841542608\n",
      "0.09999999696735425\n",
      "0.09090908753948453\n",
      "1.0\n",
      "0.5000000000000016\n",
      "0.33333333316470015\n",
      "0.2499999997470525\n",
      "0.19999999966273638\n",
      "0.16666666624508647\n",
      "0.1428571423512471\n",
      "0.12499999940978798\n",
      "0.11111111043658345\n",
      "0.0999999992411565\n",
      "0.09090909006593098\n",
      "1.0\n",
      "0.5\n",
      "0.3333333332583633\n",
      "0.24999999988754495\n",
      "0.19999999985005992\n",
      "0.16666666647924216\n",
      "0.14285714263223304\n",
      "0.12499999973760506\n",
      "0.11111111081123128\n",
      "0.09999999966263523\n",
      "0.09090909053424094\n",
      "1.0\n",
      "0.5000000000000001\n",
      "0.3333333332911583\n",
      "0.24999999993673508\n",
      "0.19999999991564577\n",
      "0.1666666665612244\n",
      "0.1428571427306115\n",
      "0.12499999985238051\n",
      "0.11111111094240304\n",
      "0.09999999981020381\n",
      "0.09090909069820619\n",
      "0.9999999999999999\n",
      "0.49999999999999956\n",
      "0.33333333330633924\n",
      "0.24999999995950728\n",
      "0.19999999994600806\n",
      "0.1666666665991779\n",
      "0.1428571427761555\n",
      "0.12499999990551507\n",
      "0.11111111100312819\n",
      "0.09999999987851917\n",
      "0.09090909077411241\n",
      "1.0\n",
      "0.5\n",
      "0.33333333331458775\n",
      "0.24999999997187833\n",
      "0.1999999999625045\n",
      "0.1666666666197964\n",
      "0.14285714280089817\n",
      "0.12499999993438225\n",
      "0.11111111103611866\n",
      "0.0999999999156333\n",
      "0.09090909081535022\n",
      "1.0\n",
      "0.4999999999999998\n",
      "0.33333333331955917\n",
      "0.24999999997933836\n",
      "0.19999999997245024\n",
      "0.16666666663223023\n",
      "0.14285714281581915\n",
      "0.12499999995178913\n",
      "0.11111111105601194\n",
      "0.09999999993801414\n",
      "0.09090909084021734\n",
      "1.0\n",
      "0.49999999999999983\n",
      "0.3333333333227888\n",
      "0.2499999999841817\n",
      "0.19999999997890744\n",
      "0.16666666664029953\n",
      "0.1428571428255033\n",
      "0.12499999996308697\n",
      "0.11111111106892443\n",
      "0.09999999995254048\n",
      "0.09090909085635776\n",
      "1.0\n",
      "0.5000000000000002\n",
      "0.3333333333249928\n",
      "0.24999999998750086\n",
      "0.19999999998333473\n",
      "0.16666666664583354\n",
      "0.14285714283214282\n",
      "0.12499999997083372\n",
      "0.11111111107777705\n",
      "0.0999999999624999\n",
      "0.0909090908674244\n"
     ]
    },
    {
     "ename": "ValueError",
     "evalue": "The truth value of an array with more than one element is ambiguous. Use a.any() or a.all()",
     "output_type": "error",
     "traceback": [
      "\u001b[0;31m---------------------------------------------------------------------------\u001b[0m",
      "\u001b[0;31mValueError\u001b[0m                                Traceback (most recent call last)",
      "\u001b[0;32m/var/folders/gr/k6p8k2jd27s0_5wbw04x_bv00000gn/T/ipykernel_11201/893523063.py\u001b[0m in \u001b[0;36m<module>\u001b[0;34m\u001b[0m\n\u001b[1;32m     31\u001b[0m \u001b[0mz\u001b[0m \u001b[0;34m=\u001b[0m \u001b[0mnp\u001b[0m\u001b[0;34m.\u001b[0m\u001b[0marray\u001b[0m\u001b[0;34m(\u001b[0m\u001b[0ma3\u001b[0m\u001b[0;34m)\u001b[0m\u001b[0;34m\u001b[0m\u001b[0;34m\u001b[0m\u001b[0m\n\u001b[1;32m     32\u001b[0m \u001b[0;34m\u001b[0m\u001b[0m\n\u001b[0;32m---> 33\u001b[0;31m \u001b[0mplt\u001b[0m\u001b[0;34m.\u001b[0m\u001b[0mimshow\u001b[0m\u001b[0;34m(\u001b[0m\u001b[0mz\u001b[0m\u001b[0;34m.\u001b[0m\u001b[0mall\u001b[0m\u001b[0;34m(\u001b[0m\u001b[0;34m)\u001b[0m\u001b[0;34m,\u001b[0m \u001b[0mcmap\u001b[0m\u001b[0;34m=\u001b[0m\u001b[0;34m'viridis'\u001b[0m\u001b[0;34m,\u001b[0m \u001b[0mextent\u001b[0m\u001b[0;34m=\u001b[0m\u001b[0;34m[\u001b[0m\u001b[0mmin\u001b[0m\u001b[0;34m(\u001b[0m\u001b[0ma1\u001b[0m\u001b[0;34m)\u001b[0m\u001b[0;34m,\u001b[0m \u001b[0mmax\u001b[0m\u001b[0;34m(\u001b[0m\u001b[0ma1\u001b[0m\u001b[0;34m)\u001b[0m\u001b[0;34m,\u001b[0m \u001b[0mmin\u001b[0m\u001b[0;34m(\u001b[0m\u001b[0ma2\u001b[0m\u001b[0;34m)\u001b[0m\u001b[0;34m,\u001b[0m \u001b[0mmax\u001b[0m\u001b[0;34m(\u001b[0m\u001b[0ma2\u001b[0m\u001b[0;34m)\u001b[0m\u001b[0;34m]\u001b[0m\u001b[0;34m)\u001b[0m\u001b[0;34m\u001b[0m\u001b[0;34m\u001b[0m\u001b[0m\n\u001b[0m\u001b[1;32m     34\u001b[0m \u001b[0;34m\u001b[0m\u001b[0m\n\u001b[1;32m     35\u001b[0m \u001b[0;34m'''--------------------Write your code above this line------------------------------'''\u001b[0m\u001b[0;34m\u001b[0m\u001b[0;34m\u001b[0m\u001b[0m\n",
      "\u001b[0;31mValueError\u001b[0m: The truth value of an array with more than one element is ambiguous. Use a.any() or a.all()"
     ]
    }
   ],
   "source": [
    "\n",
    "\n",
    "'''--------------------Write your code below this line------------------------------'''\n",
    "yax=np.linspace(0,10,100)\n",
    "xax=np.linspace(10,100000,10)\n",
    "rangex=np.linspace(0,1,100)\n",
    "a1=[]\n",
    "a2=[]\n",
    "a3=[[]]\n",
    "\n",
    "for j in xax:\n",
    "    for k in range(0,11):\n",
    "        def practice(x):\n",
    "            return x**k\n",
    "        #print(int(j))\n",
    "        one=Mid_(practice,int(j),0,1)\n",
    "        a1.append(xax)\n",
    "        a2.append(k)\n",
    "        a3[0].append(one.mid_quad())\n",
    "for j in xax:\n",
    "    for k in range(0,11):\n",
    "        def practice(x):\n",
    "            return x**k\n",
    "        #print(int(j))\n",
    "        one=Trap_(practice,int(j),0,1)\n",
    "        a1.append(xax)\n",
    "        a2.append(k)\n",
    "        a3[0].append(one.trap_quad())       \n",
    "for j in xax:\n",
    "    for k in range(0,11):\n",
    "        def practice(x):\n",
    "            return x**k\n",
    "        #print(int(j))\n",
    "        one=Simp_(practice,int(j),0,1)\n",
    "        a1.append(xax)\n",
    "        a2.append(k)\n",
    "        a3[0].append(one.simp_quad())           \n",
    "        \n",
    "#neww=practice()\n",
    "#one=Mid_(practice,10,1,2)\n",
    "#one.mid_quad()\n",
    "#def mi(k,)\n",
    "#for i in rangea:\n",
    "    #for j in rangeb:\n",
    "        #if i>j:\n",
    "            \n",
    "x = np.array(a1)\n",
    "y = np.array(a2)\n",
    "z = np.array(a3)\n",
    "\n",
    "plt.imshow(z, cmap='viridis', extent=[min(a1), max(a1), min(a2), max(a2)])\n",
    "\n",
    "'''--------------------Write your code above this line------------------------------'''"
   ]
  },
  {
   "cell_type": "markdown",
   "id": "40bd757e",
   "metadata": {},
   "source": [
    "## H) Fermi–Dirac\n"
   ]
  },
  {
   "cell_type": "code",
   "execution_count": 25,
   "id": "1870eefb",
   "metadata": {},
   "outputs": [
    {
     "data": {
      "text/plain": [
       "'--------------------Write your code above this line------------------------------'"
      ]
     },
     "execution_count": 25,
     "metadata": {},
     "output_type": "execute_result"
    },
    {
     "data": {
      "image/png": "[encoded data removed]",
      "text/plain": [
       "<Figure size 432x288 with 4 Axes>"
      ]
     },
     "metadata": {
      "needs_background": "light"
     },
     "output_type": "display_data"
    }
   ],
   "source": [
    "\n",
    "'''--------------------Write your code below this line------------------------------'''\n",
    "\n",
    "from scipy.integrate import quad\n",
    "#since the last code wasn't working I tried using reestablished functions outside of the Gauss class (I tried this with classes)\n",
    "fig, axs = plt.subplots(1,4)\n",
    "k_values = np.arange(0, 11)\n",
    "n_values =np.arange(10, int(10e6+10e5),int(10e5))\n",
    "def dirac(x, k):\n",
    "    return 1 /(1 + np.exp(-k * x))\n",
    "\n",
    "def true_integral(k, a=0, b=1):\n",
    "    integrand = lambda x: dirac(x, k)\n",
    "    result, _ = quad(integrand, a, b)\n",
    "    return result\n",
    "\n",
    "def midpoint(func, a, b, N):\n",
    "    h = (b - a) / N\n",
    "    midpoints = np.linspace(a + h/2, b - h/2, N)\n",
    "    integral_approx = h * np.sum(func(midpoints))\n",
    "    return integral_approx\n",
    "\n",
    "def trap(func, a, b, N):\n",
    "    h = (b - a) / N\n",
    "    x_points = np.linspace(a, b, N+1)\n",
    "    y_points = func(x_points)\n",
    "    integral_approx = h / 2 * (y_points[0] + 2*np.sum(y_points[1:N]) + y_points[N])\n",
    "    return integral_approx\n",
    "\n",
    "def simpsons(func, a, b, N):\n",
    "    h = (b - a) / N\n",
    "    x_points = np.linspace(a, b, N+1)\n",
    "    y_points = func(x_points)\n",
    "    integral_approx = h / 3 * (y_points[0] + 4*np.sum(y_points[1:N:2]) + 2*np.sum(y_points[2:N-1:2]) + y_points[N])\n",
    "    return integral_approx\n",
    "\n",
    "def gauss(func, k, N):\n",
    "    nodes, weights = roots_legendre(N)\n",
    "    integral_approx = sum(weights * func(nodes, k))\n",
    "    return integral_approx\n",
    "\n",
    "def relative(k_values, n_values):\n",
    "    relative_errors = np.zeros((len(k_values), len(n_values)))\n",
    "\n",
    "    for i, k in enumerate(k_values):\n",
    "        for j, N in enumerate(n_values):\n",
    "            approx_value = midpoint(lambda x: dirac(x, k), 0, 1, N)\n",
    "            true_value = true_integral(k)\n",
    "            rel_error = 2 * np.abs(true_value - approx_value) / (true_value + approx_value)\n",
    "            relative_errors[i, j] = rel_error\n",
    "\n",
    "    return relative_errors\n",
    "\n",
    "def relative2(k_values, n_values):\n",
    "    relative_errors = np.zeros((len(k_values), len(n_values)))\n",
    "\n",
    "    for i, k in enumerate(k_values):\n",
    "        for j, N in enumerate(n_values):\n",
    "            approx_value = simpsons(lambda x: dirac(x, k), 0, 1, N)\n",
    "            true_value = true_integral(k)\n",
    "            rel_error = 2 * np.abs(true_value - approx_value) / (true_value + approx_value)\n",
    "            relative_errors[i, j] = rel_error\n",
    "\n",
    "    return relative_errors\n",
    "\n",
    "def relative3(k_values, n_values):\n",
    "    relative_errors = np.zeros((len(k_values), len(n_values)))\n",
    "\n",
    "    for i, k in enumerate(k_values):\n",
    "        for j, N in enumerate(n_values):\n",
    "            approx_value = trap(lambda x: dirac(x, k), 0, 1, N)\n",
    "            true_value = true_integral(k)\n",
    "            rel_error = 2 * np.abs(true_value - approx_value) / (true_value + approx_value)\n",
    "            relative_errors[i, j] = rel_error\n",
    "\n",
    "    return relative_errors\n",
    "\n",
    "def relative4(k_values, n_values):\n",
    "    relative_errors = np.zeros((len(k_values), len(n_values)))\n",
    "\n",
    "    for i, k in enumerate(k_values):\n",
    "        for j, N in enumerate(n_values):\n",
    "            approx_value = gauss(lambda x: dirac(x, k), 0, 1, N)\n",
    "            true_value = true_integral(k)\n",
    "            rel_error = 2 * np.abs(true_value - approx_value) / (true_value + approx_value)\n",
    "            relative_errors[i, j] = rel_error\n",
    "\n",
    "    return relative_errors\n",
    "\n",
    "def plot_heatmap(relative_errors, k_values, n_values,i):\n",
    "    #axs[0].figure(figsize=(10, 6))\n",
    "    axs[i].imshow(relative_errors, extent=[min(n_values), max(n_values), min(k_values), max(k_values)],\n",
    "               aspect='auto', cmap='viridis', origin='lower')\n",
    "    #axs[0].set_colorbar(label='Relative Error')\n",
    "    axs[i].set_xlabel('N')\n",
    "    axs[i].set_ylabel('k')\n",
    "    #axs[0].show()\n",
    "\n",
    "\n",
    "\n",
    "midpoint_errors = relative(k_values, n_values)\n",
    "plot_heatmap(midpoint_errors, k_values, n_values,0)\n",
    "trap_errors = relative3(k_values,n_values)\n",
    "plot_heatmap(trap_errors, k_values, n_values,1)\n",
    "simp_errors = relative2(k_values,n_values)\n",
    "plot_heatmap(simp_errors, k_values, n_values,2)\n",
    "gauss_errors = relative2(k_values,n_values)\n",
    "plot_heatmap(gauss_errors, k_values, n_values,3)\n",
    "'''--------------------Write your code above this line------------------------------'''"
   ]
  },
  {
   "cell_type": "markdown",
   "id": "b03e4fdb",
   "metadata": {},
   "source": [
    "<div style=\"text-align: center;\">\n",
    "    <h2><strong> Harmonic Oscillator </strong></h2>\n",
    "</div>\n",
    "\n",
    "This question is adapted from Prof.Uros Seljak (Berkeley) problem set 1 question 1. For more information, please visit https://phy151-ucb.github.io/seljak-phy151-fall-2018/#course-syllabus\n",
    "\n",
    "\n",
    "The total energy of a harmonic oscillator is given by <br>\n",
    "$$ E = \\frac{1}{2}m \\left(\\frac{dx}{dt}\\right)^2 + V(x) $$\n",
    "Assuming that the potential $V(x)$ is symmetric about $x=0$ and the amplitude of the oscillator is $a$. Then the equation for the time period is given by <br>\n",
    "$$ T = \\sqrt{8m} \\int_0^a \\frac{dx}{\\sqrt{V(a) - V(x)}} $$\n"
   ]
  },
  {
   "cell_type": "markdown",
   "id": "6b41ebd0",
   "metadata": {},
   "source": [
    "## A)\n",
    "Suppose the potential is $V(x) = x^4$ and mass of the particle $m=1$, write a function that calculates the period for a given amplitude."
   ]
  },
  {
   "cell_type": "code",
   "execution_count": 318,
   "id": "85605206",
   "metadata": {},
   "outputs": [
    {
     "data": {
      "text/plain": [
       "1.8540746773017016"
      ]
     },
     "execution_count": 318,
     "metadata": {},
     "output_type": "execute_result"
    }
   ],
   "source": [
    "import scipy.integrate as spi\n",
    "\n",
    "\n",
    "def V(x):\n",
    "    'Potential'\n",
    "    return x**4\n",
    "\n",
    "def timep(x, a):\n",
    "    'Define the function that needs to be integrated (integrand) to calculate time period'\n",
    "    m=1\n",
    "    def new_fun(x):\n",
    "        return np.sqrt(8*m)*(1/(np.sqrt(V(a)-V(x))))\n",
    "    result, error = spi.quad(new_fun, lower_limit, upper_limit)\n",
    "    return result\n",
    "timep(x,2)"
   ]
  },
  {
   "cell_type": "markdown",
   "id": "15de39f8",
   "metadata": {},
   "source": [
    "## B) \n",
    "Let $a = 2$. Use inbuilt 'fixed_quad' (https://docs.scipy.org/doc/scipy-0.14.0/reference/generated/scipy.integrate.fixed_quad.html) function to calculate the time period for different values of 'N' (number of integration points). Calculate the error in the integral by estimating the difference for 'N' & '2N'. Approximately, at what 'N' is the absolute error less than $10^{-4}$ for 'a = 2'?"
   ]
  },
  {
   "cell_type": "code",
   "execution_count": 253,
   "id": "1c01c52f",
   "metadata": {},
   "outputs": [
    {
     "name": "stdout",
     "output_type": "stream",
     "text": [
      "(1.7423988227627663, None)\n",
      "1.7954772678567572\n",
      "1.7423988227627663\n",
      "0.053078445093990956\n",
      "0.0009970352678623229\n",
      "308.0\n"
     ]
    },
    {
     "data": {
      "text/plain": [
       "'--------------------Write your code above this line------------------------------'"
      ]
     },
     "execution_count": 253,
     "metadata": {},
     "output_type": "execute_result"
    }
   ],
   "source": [
    "\n",
    "\n",
    "'''--------------------Write your code below this line------------------------------'''\n",
    "a=2\n",
    "b=0\n",
    "m=1\n",
    "N = 5\n",
    "Va=V(a)\n",
    "func = lambda x: np.sqrt(8*m)*(1/(np.sqrt(Va-x**4)))\n",
    "print(spi.fixed_quad(func, 0.0, 2.0,n=5))\n",
    "x=spi.fixed_quad(func, 0.0, 2.0,n=N)\n",
    "y=spi.fixed_quad(func, 0.0, 2.0,n=2*N)\n",
    "np.array(x)\n",
    "np.array(y)\n",
    "print(y[0])\n",
    "print(x[0])\n",
    "print(abs(y[0]-x[0]))\n",
    "def finderror(n):\n",
    "    for nums in n:\n",
    "        x=spi.fixed_quad(func, 0.0, 2.0,n=nums)\n",
    "        y=spi.fixed_quad(func, 0.0, 2.0,n=2*nums)\n",
    "        xn=np.array(x)\n",
    "        yn=np.array(y)\n",
    "        #print(abs(yn[0]-xn[0]))\n",
    "        if abs(yn[0]-xn[0]) < 10e-4:\n",
    "            print(yn[0]-xn[0])\n",
    "            print(nums)\n",
    "            break\n",
    "    \n",
    "    \n",
    "n=np.linspace(1,1000,1000)\n",
    "finderror(n)\n",
    "\n",
    "#N=308 is when we recieve the desired result\n",
    "'''--------------------Write your code above this line------------------------------'''"
   ]
  },
  {
   "cell_type": "markdown",
   "id": "6ace5f54",
   "metadata": {},
   "source": [
    "## C) \n",
    "Use inbuilt 'quad' (https://docs.scipy.org/doc/scipy/reference/generated/scipy.integrate.quad.html) function that returns an error estimate and compare your answer for 'a = 2' (quad uses a more advanced integration technique)"
   ]
  },
  {
   "cell_type": "code",
   "execution_count": 257,
   "id": "d6a6b7a1",
   "metadata": {},
   "outputs": [
    {
     "name": "stdout",
     "output_type": "stream",
     "text": [
      "1.8540746773017016\n",
      "2.006794730391448e-10\n"
     ]
    },
    {
     "data": {
      "text/plain": [
       "'--------------------Write your code above this line------------------------------'"
      ]
     },
     "execution_count": 257,
     "metadata": {},
     "output_type": "execute_result"
    }
   ],
   "source": [
    "\n",
    "\n",
    "'''--------------------Write your code below this line------------------------------'''\n",
    "a=2\n",
    "b=0\n",
    "m=1\n",
    "N = 5\n",
    "Va=V(a)\n",
    "func = lambda x: np.sqrt(8*m)*(1/(np.sqrt(Va-x**4)))\n",
    "\n",
    "integral, error =spi.quad(func, 0.0, 2.0)\n",
    "print(integral)\n",
    "print(error)\n",
    "#Other error estimate was 0\n",
    "'''--------------------Write your code above this line------------------------------'''"
   ]
  },
  {
   "cell_type": "markdown",
   "id": "8d98f6a0",
   "metadata": {},
   "source": [
    " ## D) \n",
    "Calculate the time period by using the inbuilt romberg function (https://docs.scipy.org/doc/scipy/reference/generated/scipy.integrate.romberg.html) for Romberg integration. \n",
    "A simplistic usage with romberg(func, 0, a), where a is the amplitude, will probably give error or 'nan'. Why? "
   ]
  },
  {
   "cell_type": "code",
   "execution_count": 306,
   "id": "ddd1c63e",
   "metadata": {},
   "outputs": [
    {
     "name": "stdout",
     "output_type": "stream",
     "text": [
      "1.8570082545538737\n"
     ]
    },
    {
     "data": {
      "text/plain": [
       "'--------------------Write your code above this line------------------------------'"
      ]
     },
     "execution_count": 306,
     "metadata": {},
     "output_type": "execute_result"
    }
   ],
   "source": [
    "\n",
    "\n",
    "'''--------------------Write your code below this line------------------------------'''\n",
    "\n",
    "m=1\n",
    "\n",
    "def f(x):\n",
    "    if x == 2:\n",
    "        return np.sqrt(8*m)*(1/(np.sqrt(16-(x-10e-5)**4)))  \n",
    "    else:\n",
    "        return np.sqrt(8*m)*(1/(np.sqrt(16-x**4)))\n",
    "\n",
    "\n",
    "lower_limit = 0\n",
    "upper_limit = 2\n",
    "\n",
    "\n",
    "print(spi.romberg(f, lower_limit, upper_limit))\n",
    "\n",
    "\n",
    "\n",
    "\n",
    "#these calls to the function will include a divide by zero due to the V(a)-V(x) term in the denominator\n",
    "\n",
    "'''--------------------Write your code above this line------------------------------'''"
   ]
  },
  {
   "cell_type": "markdown",
   "id": "b53e030b",
   "metadata": {},
   "source": [
    "## E) \n",
    "Assume that we can tolerate the uncertainitiy of $10^{-5}$ in the position. Show and output of 'keyword' show = True for 'a = 2'. Use this to estimate error for divmax = 10.\n"
   ]
  },
  {
   "cell_type": "code",
   "execution_count": 315,
   "id": "401a8191",
   "metadata": {},
   "outputs": [
    {
     "name": "stdout",
     "output_type": "stream",
     "text": [
      "Romberg integration of <function vectorize1.<locals>.vfunc at 0x7fb8d3241d30> from [0, 2]\n",
      "\n",
      " Steps  StepSize   Results\n",
      "     1  2.000000 50.708982 \n",
      "     2  1.000000 26.084788 17.876723 \n",
      "     4  0.500000 13.824258  9.737414  9.194794 \n",
      "     8  0.250000  7.734314  5.704333  5.435461  5.375789 \n",
      "    16  0.125000  4.719307  3.714304  3.581635  3.552210  3.545058 \n",
      "    32  0.062500  3.233479  2.738203  2.673130  2.658709  2.655205  2.654335 \n",
      "    64  0.031250  2.506060  2.263587  2.231946  2.224943  2.223242  2.222820  2.222715 \n",
      "   128  0.015625  2.153366  2.035801  2.020616  2.017261  2.016447  2.016245  2.016194  2.016181 \n",
      "   256  0.007812  1.984828  1.928649  1.921506  1.919933  1.919551  1.919456  1.919433  1.919427  1.919425 \n",
      "   512  0.003906  1.906089  1.879843  1.876589  1.875876  1.875703  1.875660  1.875649  1.875647  1.875646  1.875646 \n",
      "  1024  0.001953  1.870632  1.858813  1.857411  1.857106  1.857033  1.857014  1.857010  1.857009  1.857008  1.857008  1.857008 \n",
      "\n",
      "The final result is 1.8570082545538737 after 1025 function evaluations.\n",
      "2.006794730391448e-10\n",
      "1.42329 0.842701\n"
     ]
    },
    {
     "data": {
      "text/plain": [
       "'--------------------Write your code above this line------------------------------'"
      ]
     },
     "execution_count": 315,
     "metadata": {},
     "output_type": "execute_result"
    }
   ],
   "source": [
    "\n",
    "\n",
    "'''--------------------Write your code below this line------------------------------'''\n",
    "from scipy.special import erf\n",
    "try:\n",
    "    m=1\n",
    "\n",
    "    def f(x):\n",
    "        if x == 2:\n",
    "            return np.sqrt(8*m)*(1/(np.sqrt(16-(x-10e-5)**4)))  \n",
    "        else:\n",
    "            return np.sqrt(8*m)*(1/(np.sqrt(16-x**4)))\n",
    "\n",
    "\n",
    "    lower_limit = 0\n",
    "    upper_limit = 2\n",
    "\n",
    "\n",
    "    result, error = spi.romberg(f, lower_limit, upper_limit,tol=10e-5,show =True,divmax=10)\n",
    "except:\n",
    "    pass\n",
    "print(error)\n",
    "print(\"%g %g\" % (2*result, erf(1)))\n",
    "\n",
    "\n",
    "'''--------------------Write your code above this line------------------------------'''"
   ]
  },
  {
   "cell_type": "markdown",
   "id": "8b024f9c",
   "metadata": {},
   "source": [
    "## F)\n",
    " Change divmax to change the number of divisions. How does the accuracy change on going from 10 to 15 divisions."
   ]
  },
  {
   "cell_type": "code",
   "execution_count": 317,
   "id": "5fbd5749",
   "metadata": {},
   "outputs": [
    {
     "name": "stdout",
     "output_type": "stream",
     "text": [
      "Romberg integration of <function vectorize1.<locals>.vfunc at 0x7fb8d3d02940> from [0, 2]\n",
      "\n",
      " Steps  StepSize   Results\n",
      "     1  2.000000 50.708982 \n",
      "     2  1.000000 26.084788 17.876723 \n",
      "     4  0.500000 13.824258  9.737414  9.194794 \n",
      "     8  0.250000  7.734314  5.704333  5.435461  5.375789 \n",
      "    16  0.125000  4.719307  3.714304  3.581635  3.552210  3.545058 \n",
      "    32  0.062500  3.233479  2.738203  2.673130  2.658709  2.655205  2.654335 \n",
      "    64  0.031250  2.506060  2.263587  2.231946  2.224943  2.223242  2.222820  2.222715 \n",
      "   128  0.015625  2.153366  2.035801  2.020616  2.017261  2.016447  2.016245  2.016194  2.016181 \n",
      "   256  0.007812  1.984828  1.928649  1.921506  1.919933  1.919551  1.919456  1.919433  1.919427  1.919425 \n",
      "   512  0.003906  1.906089  1.879843  1.876589  1.875876  1.875703  1.875660  1.875649  1.875647  1.875646  1.875646 \n",
      "  1024  0.001953  1.870632  1.858813  1.857411  1.857106  1.857033  1.857014  1.857010  1.857009  1.857008  1.857008  1.857008 \n",
      "  2048  0.000977  1.855670  1.850683  1.850141  1.850026  1.849998  1.849991  1.849990  1.849989  1.849989  1.849989  1.849989  1.849989 \n",
      "  4096  0.000488  1.850147  1.848306  1.848147  1.848116  1.848108  1.848106  1.848106  1.848106  1.848106  1.848106  1.848106  1.848106  1.848106 \n",
      "  8192  0.000244  1.848769  1.848310  1.848310  1.848313  1.848314  1.848314  1.848314  1.848314  1.848314  1.848314  1.848314  1.848314  1.848314  1.848314 \n",
      " 16384  0.000122  1.849059  1.849156  1.849212  1.849226  1.849230  1.849231  1.849231  1.849231  1.849231  1.849231  1.849231  1.849231  1.849231  1.849231  1.849231 \n",
      " 32768  0.000061  1.849896  1.850175  1.850243  1.850259  1.850263  1.850264  1.850265  1.850265  1.850265  1.850265  1.850265  1.850265  1.850265  1.850265  1.850265  1.850265 \n",
      "\n",
      "The final result is 1.8502647986547973 after 32769 function evaluations.\n",
      "2.006794730391448e-10\n",
      "1.42329 0.842701\n"
     ]
    },
    {
     "data": {
      "text/plain": [
       "'--------------------Write your code above this line------------------------------'"
      ]
     },
     "execution_count": 317,
     "metadata": {},
     "output_type": "execute_result"
    }
   ],
   "source": [
    "\n",
    "\n",
    "'''--------------------Write your code below this line------------------------------'''\n",
    "try:\n",
    "    result, error = spi.romberg(f, lower_limit, upper_limit,tol=10e-5,show =True,divmax=15)\n",
    "except:\n",
    "    pass\n",
    "print(error)\n",
    "print(\"%g %g\" % (2*result, erf(1)))\n",
    "\n",
    "#if we define the accuracy to be the difference between this method and quad we see that the more divmax\n",
    "#the more accurate our result is in comparison.\n",
    "'''--------------------Write your code above this line------------------------------'''"
   ]
  },
  {
   "cell_type": "markdown",
   "id": "8c812bc6",
   "metadata": {},
   "source": [
    "## G) \n",
    "Use the function to make a graph of the period for amplitude ranging from a=0 to a=2."
   ]
  },
  {
   "cell_type": "code",
   "execution_count": 327,
   "id": "974e5d39",
   "metadata": {},
   "outputs": [
    {
     "name": "stderr",
     "output_type": "stream",
     "text": [
      "/opt/anaconda3/lib/python3.9/site-packages/scipy/integrate/_quadrature.py:849: AccuracyWarning: divmax (10) exceeded. Latest difference = 1.863768e-02\n",
      "  warnings.warn(\n"
     ]
    },
    {
     "data": {
      "text/plain": [
       "'--------------------Write your code above this line------------------------------'"
      ]
     },
     "execution_count": 327,
     "metadata": {},
     "output_type": "execute_result"
    },
    {
     "data": {
      "image/png": "[encoded data removed]",
      "text/plain": [
       "<Figure size 432x288 with 1 Axes>"
      ]
     },
     "metadata": {
      "needs_background": "light"
     },
     "output_type": "display_data"
    }
   ],
   "source": [
    "\n",
    "\n",
    "'''--------------------Write your code below this line------------------------------'''\n",
    "a=np.linspace(0,2,100)\n",
    "ys=[]\n",
    "for el in a:\n",
    "    \n",
    "    new= spi.romberg(f, 0, el,tol=10e-5,divmax=10)\n",
    "    #print(new)\n",
    "    ys.append(new)\n",
    "        \n",
    "plt.plot(a,ys)\n",
    "plt.xlabel('Amplitude')\n",
    "plt.ylabel('Period')\n",
    "'''--------------------Write your code above this line------------------------------'''"
   ]
  },
  {
   "cell_type": "markdown",
   "id": "e67c014c",
   "metadata": {},
   "source": [
    "<div style=\"text-align: center;\">\n",
    "    <h2><strong> Black Body Radiation </strong></h2>\n",
    "</div>\n",
    "\n",
    "This question is adapted from Prof.Uros Seljak (Berkeley) problem set 1 question 2. For more information, please visit https://phy151-ucb.github.io/seljak-phy151-fall-2018/#course-syllabus\n",
    "\n",
    "\n",
    "The total rate at which energy is radiated by a black body per unit area over all frequencies is \n",
    "\n",
    "$$ W = \\frac{2 \\pi k_B^4T^4}{c^2 {h}^3} \\int _0^\\infty \\frac{x^3}{e^x -1} dx $$\n"
   ]
  },
  {
   "cell_type": "markdown",
   "id": "504af1e3",
   "metadata": {},
   "source": [
    "## A) \n",
    "Write a function to to evaluate the integral in this expression. You will need to change the variables to go from an infinite range to a finite range. What is the change of variable and new functional form? The variable to go from range 0 to $\\infty$ to a finite range of is \n",
    "\n",
    "$$ z = \\frac{x}{1+x} $$\n",
    "or equivalently\n",
    "$$ x = \\frac{z}{1-z} $$\n"
   ]
  },
  {
   "cell_type": "code",
   "execution_count": 332,
   "id": "4678d4c8",
   "metadata": {},
   "outputs": [
    {
     "name": "stdout",
     "output_type": "stream",
     "text": [
      "5.6627049993067615e-08\n"
     ]
    },
    {
     "name": "stderr",
     "output_type": "stream",
     "text": [
      "/var/folders/gr/k6p8k2jd27s0_5wbw04x_bv00000gn/T/ipykernel_11201/3538033539.py:13: RuntimeWarning: overflow encountered in exp\n",
      "  return prefactor*(z**3)/((1-z)**5)*(1/(np.exp(z/(1-z))-1))\n"
     ]
    }
   ],
   "source": [
    "#Constants\n",
    "k = 1.38064852e-23 \n",
    "h = 6.626e-34\n",
    "pi= np.pi\n",
    "c = 3e8\n",
    "hb = h /2/pi\n",
    "prefactor = k**4/c**2/hb**3/4/pi**2 \n",
    "#True value\n",
    "stfconst = 5.670367e-8\n",
    "\n",
    "def blackbody_var(z):\n",
    "    'Blackbody spectrum after change of variables'\n",
    "    return prefactor*(z**3)/((1-z)**5)*(1/(np.exp(z/(1-z))-1))\n",
    "    \n"
   ]
  },
  {
   "cell_type": "markdown",
   "id": "f6eb1cfb",
   "metadata": {},
   "source": [
    "## B) \n",
    "According to Stefan's law, the total energy given off by a black-body per unit area per second is given by \n",
    "$$ W = \\sigma T^4 $$. Use the integral to calculate the value of Stefan Boltzmann constant $\\sigma$. Use 'fixed_quad' function to do the integral.   \n"
   ]
  },
  {
   "cell_type": "code",
   "execution_count": 334,
   "id": "81ebc5d3",
   "metadata": {},
   "outputs": [
    {
     "name": "stdout",
     "output_type": "stream",
     "text": [
      "(5.662095850366909e-08, None)\n"
     ]
    },
    {
     "data": {
      "text/plain": [
       "'--------------------Write your code above this line------------------------------'"
      ]
     },
     "execution_count": 334,
     "metadata": {},
     "output_type": "execute_result"
    }
   ],
   "source": [
    "\n",
    "\n",
    "'''--------------------Write your code below this line------------------------------'''\n",
    "\n",
    "print(spi.fixed_quad(blackbody_var,0,1,n=20))\n",
    "\n",
    "\n",
    "'''--------------------Write your code above this line------------------------------'''"
   ]
  },
  {
   "cell_type": "markdown",
   "id": "e33c4da7",
   "metadata": {},
   "source": [
    "## C) \n",
    "Inbuilt 'quad' function can support an infinite range for integration. Write another function to do the integration from 0 to $\\infty$ and compare your answer."
   ]
  },
  {
   "cell_type": "code",
   "execution_count": 336,
   "id": "1a1be68e",
   "metadata": {},
   "outputs": [
    {
     "name": "stdout",
     "output_type": "stream",
     "text": [
      "(5.6627031974081604e-08, 4.4137262262319133e-10)\n"
     ]
    },
    {
     "name": "stderr",
     "output_type": "stream",
     "text": [
      "/var/folders/gr/k6p8k2jd27s0_5wbw04x_bv00000gn/T/ipykernel_11201/2550003808.py:3: RuntimeWarning: overflow encountered in exp\n",
      "  return prefactor*(x**3)/(np.exp(x)-1)\n"
     ]
    },
    {
     "data": {
      "text/plain": [
       "'--------------------Write your code above this line------------------------------'"
      ]
     },
     "execution_count": 336,
     "metadata": {},
     "output_type": "execute_result"
    }
   ],
   "source": [
    "\n",
    "\n",
    "'''--------------------Write your code below this line------------------------------'''\n",
    "def nonvar(x):\n",
    "    return prefactor*(x**3)/(np.exp(x)-1)\n",
    "\n",
    "print(spi.quad(nonvar,0,float('inf')))\n",
    "\n",
    "#the answers are nearly the exact same except this one is slightly closer to our given value of the sb constant\n",
    "'''--------------------Write your code above this line------------------------------'''"
   ]
  },
  {
   "attachments": {
    "elliptical_orbit.png": {
     "image/png": "[encoded data removed]"
    }
   },
   "cell_type": "markdown",
   "id": "94d5d239",
   "metadata": {},
   "source": [
    "<div style=\"text-align: center;\">\n",
    "    <h2><strong> Planetary Orbit Integration </strong></h2>\n",
    "</div>\n",
    "\n",
    "This question is adapted from Prof.Uros Seljak (Berkeley) problem set 1 question 4. For more information, please visit https://phy151-ucb.github.io/seljak-phy151-fall-2018/#course-syllabus\n",
    "\n",
    "\n",
    "One of the great achievements in the history of science was the discovery of the laws of J. Kepler, based on many precise measurements of the positions of Mars by Tycho Brahe and himself. The planets move in elliptic orbits with the sun at one of the foci (Kepler’s first law).\n",
    "\n",
    "Newton (Principia 1687) then explained this motion by his general law of gravitational attraction (proportional to $1/r^2$) and the relation between forces and acceleration. This then opened the way for treating arbitrary celestial motions by solving differential equations.\n",
    "\n",
    "\n",
    "![elliptical_orbit.png](attachment:elliptical_orbit.png)\n",
    "\n",
    "\n",
    "Consider the following two-body problem, wherein a single planet orbits around a large star. Stellar mass is much larger than planetary mass, so we choose the star as the center of our coordinate system. Now, consider the planet's two-dimensional elliptical orbit around the star. The position of the planet is given by the coordinates $q = (q_1, q_2)$, with the planet's velocity given by $p = \\dot{q}$.\n",
    "\n",
    "Newton's laws, with a suitable normalization, yield the following ordinary differential equations:\n",
    "\n",
    "$$ \\ddot{q_1} = -\\frac{q_1}{(q_1^2 + q_2^2)^{3/2}},\\ \\ \\ \\ddot{q_2} = -\\frac{q_2}{(q_1^2 + q_2^2)^{3/2}}. $$\n",
    "\n",
    "This is equivalent to a Hamiltonian system with the Hamiltonian:\n",
    "$$ H(p,q) = \\frac{1}{2}(p_1^2 + p_2^2) - \\frac{1}{\\sqrt{q_1^2 + q_2^2}} $$\n",
    "$$p_i = \\dot{q_i}$$\n",
    "\n",
    "We will consider the initial position and velocity of the planet to be:\n",
    "$$ q_1(0) = 1-e,\\ \\ \\ q_2(0) = 0,\\ \\ \\ \\dot{q_1}(0) = 0,\\ \\ \\ \\dot{q_2}(0) = \\sqrt{\\frac{1+e}{1-e}} $$\n",
    "\n",
    "Now determine $q$ as a function of time $t$.\n",
    "\n",
    "\n"
   ]
  },
  {
   "cell_type": "markdown",
   "id": "7f7f8f02",
   "metadata": {},
   "source": [
    "## A) \n",
    " Q1. Using 400000 steps, use the explicit Euler method (Let $f(q) = \\frac{dq}{dt}$. Then, $q(t+\\Delta t) = \\Delta t \\cdot f(q)$ for small $\\Delta t$) and plot the orbit of the planet. Assume $e = 0.6$ and integrate to a final time of $T_f = 200$.\n",
    " \n",
    " $$ q_{n+1} = q_n + \\Delta t \\cdot \\dot{q_n} $$\n",
    "$$ \\dot{q}_{n+1} = p_{n+1} = p_n + \\Delta t \\cdot \\dot{p_n} $$"
   ]
  },
  {
   "cell_type": "code",
   "execution_count": 337,
   "id": "4098e53c",
   "metadata": {},
   "outputs": [
    {
     "data": {
      "image/png": "[encoded data removed]",
      "text/plain": [
       "<Figure size 432x288 with 1 Axes>"
      ]
     },
     "metadata": {
      "needs_background": "light"
     },
     "output_type": "display_data"
    },
    {
     "data": {
      "text/plain": [
       "'--------------------Write your code above this line------------------------------'"
      ]
     },
     "execution_count": 337,
     "metadata": {},
     "output_type": "execute_result"
    }
   ],
   "source": [
    "\n",
    "\n",
    "'''--------------------Write your code below this line------------------------------'''\n",
    "import numpy as np\n",
    "import matplotlib.pyplot as plt\n",
    "\n",
    "\n",
    "def equations(q1,q2,p1,p2):\n",
    "    dq1dt = p1\n",
    "    dq2dt = p2\n",
    "    dp1dt = -q1/((q1**2+q2**2)**(3/2))\n",
    "    dp2dt = -q2/((q1**2+q2**2)**(3/2))\n",
    "    return dq1dt, dp1dt, dq2dt, dp2dt\n",
    "\n",
    "def euler(q1, p1, q2, p2, dt):\n",
    "    dq1dt, dp1dt, dq2dt, dp2dt = equations(q1,q2,p1,p2)\n",
    "    q1_new = q1 + dt * dq1dt\n",
    "    q2_new = q2 + dt * dq2dt\n",
    "    p1_new = p1 + dt * dp1dt\n",
    "    p2_new = p2 + dt * dp2dt\n",
    "    return q1_new, p1_new, q2_new, p2_new\n",
    "\n",
    "\n",
    "total_steps = 400000\n",
    "final_time = 200.0\n",
    "time_step = final_time / total_steps\n",
    "\n",
    "\n",
    "q1_values = np.zeros(total_steps + 1)\n",
    "q2_values = np.zeros(total_steps + 1)\n",
    "p1_values = np.zeros(total_steps + 1)\n",
    "p2_values = np.zeros(total_steps + 1)\n",
    "\n",
    "\n",
    "q1_values[0] = .4\n",
    "q2_values[0]=0. # Initial position\n",
    "p1_values[0] = 0\n",
    "p2_values[0] = np.sqrt(1.6/.4)\n",
    "\n",
    "\n",
    "for i in range(total_steps):\n",
    "    q1_values[i + 1], p1_values[i + 1],q2_values[i + 1], p2_values[i + 1] = euler(q1_values[i], p1_values[i],q2_values[i], p2_values[i], time_step)\n",
    "\n",
    "\n",
    "plt.plot(q1_values, q2_values, label='Orbit')\n",
    "plt.xlabel('Position (q1)')\n",
    "plt.ylabel('Position (q2)')\n",
    "plt.title('Planetary Orbit')\n",
    "plt.legend()\n",
    "plt.show()\n",
    "\n",
    "'''--------------------Write your code above this line------------------------------'''"
   ]
  },
  {
   "cell_type": "markdown",
   "id": "83a7bbdc",
   "metadata": {},
   "source": [
    "## B) \n",
    "Using 400000 steps, use the symplectic Euler method. \n",
    "\n",
    "$$ p_{n+1} = p_n - \\Delta t H_q(p_{n+1}, q_n) $$\n",
    "$$ q_{n+1} = q_n + \\Delta t H_p(p_{n+1}, q_n) $$\n",
    "or\n",
    "$$ q_{n+1} = q_n + \\Delta t H_p(p_n, q_{n+1}) $$\n",
    "$$ p_{n+1} = p_n - \\Delta t H_p(p_n, q_{n+1}) $$\n",
    "where $H_p$ and $H_q$ denote the column vectors of partial derivatives of the Hamiltonian with respect to $p$ and $q$, respectively. i.e. $H_{p_1} = p_1, H_{q_1} = \\frac{q_1}{(q_1^2 + q_2^2)^{3/2}}, H_{p_2} = p_2, H_{q_2} = \\frac{q_2}{(q_1^2 + q_2^2)^{3/2}}$. \n",
    " \n",
    " \n",
    "Again plot the orbit of the planet. Compare your results in A) and B) by plotting both solutions in the same figure. "
   ]
  },
  {
   "cell_type": "code",
   "execution_count": 365,
   "id": "862a3fd2",
   "metadata": {},
   "outputs": [
    {
     "name": "stdout",
     "output_type": "stream",
     "text": [
      "[0.4 0.4 0.4 ... 0.4 0.4 0.4]\n"
     ]
    },
    {
     "data": {
      "text/plain": [
       "'--------------------Write your code above this line------------------------------'"
      ]
     },
     "execution_count": 365,
     "metadata": {},
     "output_type": "execute_result"
    }
   ],
   "source": [
    "\n",
    "\n",
    "'''--------------------Write your code below this line------------------------------'''\n",
    "import numpy as np\n",
    "import matplotlib.pyplot as plt\n",
    "\n",
    "\n",
    "def equations(q1,q2,p1,p2):\n",
    "    Hp1 = p1\n",
    "    Hp2 = p2\n",
    "    Hq1 = q1/((q1**2+q2**2)**(3/2))\n",
    "    Hq2 = q2/((q1**2+q2**2)**(3/2))\n",
    "    return Hp1, Hp2, Hq1, Hq2\n",
    "\n",
    "def euler(q1, p1, q2, p2, dt):\n",
    "    Hp1, Hp2, Hq1, Hq2 = equations(q1,q2,p1,p2)\n",
    "    q1_new = q1 + dt * Hp1\n",
    "    q2_new = q2 + dt * Hp2\n",
    "    p1_new = p1 - dt * Hp1\n",
    "    p2_new = p2 - dt * Hp2\n",
    "    return q1_new, p1_new, q2_new, p2_new\n",
    "\n",
    "\n",
    "total_steps = 400000\n",
    "final_time = 200.0\n",
    "time_step = final_time / total_steps\n",
    "\n",
    "\n",
    "q1_val = np.zeros(total_steps + 1)\n",
    "q2_val = np.zeros(total_steps + 1)\n",
    "p1_val = np.zeros(total_steps + 1)\n",
    "p2_val = np.zeros(total_steps + 1)\n",
    "\n",
    "\n",
    "q1_val[0] = .4\n",
    "q2_val[0]=0. # Initial position\n",
    "p1_val[0] = 0\n",
    "p2_val[0] = -np.sqrt(1.6/.4)\n",
    "\n",
    "\n",
    "for i in range(total_steps):\n",
    "    q1_val[i + 1], p1_val[i + 1],q2_val[i + 1], p2_val[i + 1] = euler(q1_val[i], p1_val[i],q2_val[i], p2_val[i], time_step)\n",
    "\n",
    "#plt.plot(q1_values, q2_values, label='Orbit 1')\n",
    "plt.plot(q1_val, q2_val, label='Orbit')\n",
    "\n",
    "plt.xlabel('Position (q1)')\n",
    "plt.ylabel('Position (q2)')\n",
    "plt.title('Planetary Orbit')\n",
    "plt.legend()\n",
    "plt.show()\n",
    "\n",
    "\n",
    "a1=q1_values\n",
    "a2=q2_values\n",
    "\n",
    "#should be just one circle but I don't know what is going wrong with this graph\n",
    "\n",
    "print(q1_val)\n",
    "\n",
    "'''--------------------Write your code above this line------------------------------'''"
   ]
  },
  {
   "cell_type": "code",
   "execution_count": null,
   "id": "e4123b52",
   "metadata": {},
   "outputs": [],
   "source": []
  }
 ],
 "metadata": {
  "kernelspec": {
   "display_name": "Python 3 (ipykernel)",
   "language": "python",
   "name": "python3"
  },
  "language_info": {
   "codemirror_mode": {
    "name": "ipython",
    "version": 3
   },
   "file_extension": ".py",
   "mimetype": "text/x-python",
   "name": "python",
   "nbconvert_exporter": "python",
   "pygments_lexer": "ipython3",
   "version": "3.9.7"
  }
 },
 "nbformat": 4,
 "nbformat_minor": 5
}
